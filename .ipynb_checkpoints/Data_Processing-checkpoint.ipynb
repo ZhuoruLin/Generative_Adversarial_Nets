{
 "cells": [
  {
   "cell_type": "code",
   "execution_count": 19,
   "metadata": {
    "collapsed": true
   },
   "outputs": [],
   "source": [
    "from __future__ import print_function\n",
    "import argparse\n",
    "import os\n",
    "import random\n",
    "import torch\n",
    "import torch.nn as nn\n",
    "import torch.nn.parallel\n",
    "import torch.backends.cudnn as cudnn\n",
    "import torch.optim as optim\n",
    "import torch.utils.data\n",
    "import torchvision.datasets as dset\n",
    "import torchvision.transforms as transforms\n",
    "import torchvision.utils as vutils\n",
    "from torch.autograd import Variable\n",
    "import matplotlib.pyplot as plt\n",
    "%matplotlib inline\n",
    "import numpy as np"
   ]
  },
  {
   "cell_type": "markdown",
   "metadata": {},
   "source": [
    "# Image features summary"
   ]
  },
  {
   "cell_type": "code",
   "execution_count": 176,
   "metadata": {
    "collapsed": true
   },
   "outputs": [],
   "source": [
    "f = open('./list_attr_celeba.txt','r')\n",
    "lines = f.read().strip().split('\\n')\n",
    "headers = lines[0].strip().split(' ')\n",
    "features = [line.strip().replace(' ','') for line in lines[1:]]\n",
    "features = np.array([line.split('.jpg') for line in features])\n",
    "img_num = features[:,0]\n",
    "features = features[:,1]\n",
    "features = [line.replace('-1','0') for line in features]\n",
    "features = np.array([[line[i] for i in range(len(line))] for line in features])\n",
    "info = pd.DataFrame(features)\n",
    "info.index = img_num\n",
    "info.columns = headers\n",
    "info.to_csv('image_features.csv')"
   ]
  }
 ],
 "metadata": {
  "anaconda-cloud": {},
  "kernelspec": {
   "display_name": "Python [conda env:py35]",
   "language": "python",
   "name": "conda-env-py35-py"
  },
  "language_info": {
   "codemirror_mode": {
    "name": "ipython",
    "version": 3
   },
   "file_extension": ".py",
   "mimetype": "text/x-python",
   "name": "python",
   "nbconvert_exporter": "python",
   "pygments_lexer": "ipython3",
   "version": "3.5.2"
  }
 },
 "nbformat": 4,
 "nbformat_minor": 1
}
