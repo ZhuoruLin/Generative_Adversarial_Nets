{
 "cells": [
  {
   "cell_type": "markdown",
   "metadata": {},
   "source": [
    "## Important\n",
    "[1] Generative Adversarial Nets\n",
    "https://papers.nips.cc/paper/5423-generative-adversarial-nets.pdf\n",
    "\n",
    "[2] GAN Tutorial\n",
    "https://arxiv.org/pdf/1701.00160.pdf\n",
    "\n",
    "\n",
    "## Additional Reading\n",
    "Unsupervised representation learning with deep convolutional generative\n",
    "adversarial networks\n",
    "https://arxiv.org/pdf/1511.06434.pdf\n",
    "\n",
    "ENERGY-BASED GENERATIVE ADVERSARIAL NETWORKS\n",
    "https://arxiv.org/pdf/1609.03126.pdf"
   ]
  },
  {
   "cell_type": "code",
   "execution_count": 1,
   "metadata": {
    "collapsed": true
   },
   "outputs": [],
   "source": [
    "#Pytorch example testing"
   ]
  },
  {
   "cell_type": "code",
   "execution_count": 25,
   "metadata": {
    "collapsed": true
   },
   "outputs": [],
   "source": [
    "from __future__ import print_function\n",
    "import argparse\n",
    "import os\n",
    "import random\n",
    "import torch\n",
    "import torch.nn as nn\n",
    "import torch.nn.parallel\n",
    "import torch.backends.cudnn as cudnn\n",
    "import torch.optim as optim\n",
    "import torch.utils.data\n",
    "import torchvision.datasets as dset\n",
    "import torchvision.transforms as transforms\n",
    "import torchvision.utils as vutils\n",
    "from torch.autograd import Variable\n",
    "import matplotlib.pyplot as plt\n",
    "%matplotlib inline\n",
    "import numpy as np"
   ]
  },
  {
   "cell_type": "code",
   "execution_count": 7,
   "metadata": {
    "collapsed": false
   },
   "outputs": [
    {
     "name": "stdout",
     "output_type": "stream",
     "text": [
      "Downloading http://www.cs.toronto.edu/~kriz/cifar-10-python.tar.gz to ../datasets/cifar-10-batches-py/cifar-10-python.tar.gz\n"
     ]
    }
   ],
   "source": [
    "# Explore sample dataset\n",
    "dataset = dset.CIFAR10(root='../datasets/cifar-10-batches-py/', download=True,\n",
    "                       transform=transforms.Compose([\n",
    "                           transforms.Scale(64),\n",
    "                           transforms.ToTensor(),\n",
    "                           transforms.Normalize((0.5, 0.5, 0.5), (0.5, 0.5, 0.5)),\n",
    "                       ])\n",
    ")"
   ]
  },
  {
   "cell_type": "code",
   "execution_count": 9,
   "metadata": {
    "collapsed": false
   },
   "outputs": [],
   "source": [
    "dataloader = torch.utils.data.DataLoader(dataset, batch_size=20,\n",
    "                                         shuffle=True, num_workers=int(2))"
   ]
  },
  {
   "cell_type": "code",
   "execution_count": 15,
   "metadata": {
    "collapsed": false
   },
   "outputs": [],
   "source": [
    "sample_image = samples[0][0].numpy()"
   ]
  },
  {
   "cell_type": "code",
   "execution_count": 26,
   "metadata": {
    "collapsed": false
   },
   "outputs": [],
   "source": [
    "def imshow(img):\n",
    "    img = img / 2 + 0.5 # unnormalize\n",
    "    npimg = img.numpy()\n",
    "    plt.imshow(np.transpose(npimg, (1,2,0)))"
   ]
  },
  {
   "cell_type": "code",
   "execution_count": 27,
   "metadata": {
    "collapsed": false
   },
   "outputs": [
    {
     "data": {
      "image/png": "[encoded data removed]",
      "text/plain": [
       "<matplotlib.figure.Figure at 0x125f20940>"
      ]
     },
     "metadata": {},
     "output_type": "display_data"
    }
   ],
   "source": [
    "imshow(samples[0][0])"
   ]
  },
  {
   "cell_type": "code",
   "execution_count": 63,
   "metadata": {
    "collapsed": false
   },
   "outputs": [],
   "source": [
    "#Convolutional layer test\n",
    "#Generator input z\n",
    "nz = 100\n",
    "batchSize = 64\n",
    "fixed_noise = Variable(torch.FloatTensor(batchSize, nz, 1, 1).normal_(0, 1))\n",
    "ones = Variable(torch.from_numpy(np.ones([batchSize,nz,1,1])))\n",
    "convTransposed2d = nn.ConvTranspose2d(     nz, 64 * 8, 4, 1, 0, bias=False)"
   ]
  },
  {
   "cell_type": "code",
   "execution_count": 64,
   "metadata": {
    "collapsed": false
   },
   "outputs": [
    {
     "data": {
      "text/plain": [
       "ConvTranspose2d(100, 512, kernel_size=(4, 4), stride=(1, 1), bias=False)"
      ]
     },
     "execution_count": 64,
     "metadata": {},
     "output_type": "execute_result"
    }
   ],
   "source": [
    "convTransposed2d"
   ]
  },
  {
   "cell_type": "code",
   "execution_count": 68,
   "metadata": {
    "collapsed": false
   },
   "outputs": [],
   "source": [
    "conv2d = nn.Conv2d(64*8,nz,4,1,0,bias = False)"
   ]
  },
  {
   "cell_type": "code",
   "execution_count": 76,
   "metadata": {
    "collapsed": false
   },
   "outputs": [],
   "source": [
    "conv2d.weight.data = convTransposed2d.weight.data"
   ]
  },
  {
   "cell_type": "code",
   "execution_count": null,
   "metadata": {
    "collapsed": true
   },
   "outputs": [],
   "source": [
    "output = convTransposed2d(ones)"
   ]
  },
  {
   "cell_type": "code",
   "execution_count": 87,
   "metadata": {
    "collapsed": false
   },
   "outputs": [
    {
     "data": {
      "text/plain": [
       "Variable containing:\n",
       "( 0 , 0 ,.,.) = \n",
       " -8.3191e-01\n",
       "\n",
       "( 0 , 1 ,.,.) = \n",
       " -2.4450e-01\n",
       "\n",
       "( 0 , 2 ,.,.) = \n",
       " -1.0286e+00\n",
       "    ... \n",
       "\n",
       "( 0 ,97 ,.,.) = \n",
       " -3.3931e-01\n",
       "\n",
       "( 0 ,98 ,.,.) = \n",
       "  4.5987e+00\n",
       "\n",
       "( 0 ,99 ,.,.) = \n",
       " -7.3245e-01\n",
       "      ⋮  \n",
       "\n",
       "( 1 , 0 ,.,.) = \n",
       " -1.7998e-01\n",
       "\n",
       "( 1 , 1 ,.,.) = \n",
       " -1.8405e+00\n",
       "\n",
       "( 1 , 2 ,.,.) = \n",
       "  2.0510e-01\n",
       "    ... \n",
       "\n",
       "( 1 ,97 ,.,.) = \n",
       " -6.8016e-01\n",
       "\n",
       "( 1 ,98 ,.,.) = \n",
       " -3.0250e+00\n",
       "\n",
       "( 1 ,99 ,.,.) = \n",
       "  4.6484e-01\n",
       "      ⋮  \n",
       "\n",
       "( 2 , 0 ,.,.) = \n",
       "  7.7877e-01\n",
       "\n",
       "( 2 , 1 ,.,.) = \n",
       "  2.0132e+00\n",
       "\n",
       "( 2 , 2 ,.,.) = \n",
       "  2.1511e+00\n",
       "    ... \n",
       "\n",
       "( 2 ,97 ,.,.) = \n",
       "  1.9253e+00\n",
       "\n",
       "( 2 ,98 ,.,.) = \n",
       " -3.6502e+00\n",
       "\n",
       "( 2 ,99 ,.,.) = \n",
       " -8.8116e-01\n",
       "...     \n",
       "      ⋮  \n",
       "\n",
       "(61 , 0 ,.,.) = \n",
       "  3.4837e+00\n",
       "\n",
       "(61 , 1 ,.,.) = \n",
       " -4.0035e-01\n",
       "\n",
       "(61 , 2 ,.,.) = \n",
       " -8.5814e-01\n",
       "    ... \n",
       "\n",
       "(61 ,97 ,.,.) = \n",
       " -1.6919e-01\n",
       "\n",
       "(61 ,98 ,.,.) = \n",
       " -3.0346e+00\n",
       "\n",
       "(61 ,99 ,.,.) = \n",
       "  5.6680e-01\n",
       "      ⋮  \n",
       "\n",
       "(62 , 0 ,.,.) = \n",
       "  4.2352e-02\n",
       "\n",
       "(62 , 1 ,.,.) = \n",
       " -1.4789e+00\n",
       "\n",
       "(62 , 2 ,.,.) = \n",
       "  1.9792e+00\n",
       "    ... \n",
       "\n",
       "(62 ,97 ,.,.) = \n",
       " -1.8315e+00\n",
       "\n",
       "(62 ,98 ,.,.) = \n",
       " -7.5768e-01\n",
       "\n",
       "(62 ,99 ,.,.) = \n",
       " -2.9705e+00\n",
       "      ⋮  \n",
       "\n",
       "(63 , 0 ,.,.) = \n",
       "  1.4745e+00\n",
       "\n",
       "(63 , 1 ,.,.) = \n",
       "  2.5192e-01\n",
       "\n",
       "(63 , 2 ,.,.) = \n",
       "  1.2111e+00\n",
       "    ... \n",
       "\n",
       "(63 ,97 ,.,.) = \n",
       " -1.6258e-03\n",
       "\n",
       "(63 ,98 ,.,.) = \n",
       " -1.8279e+00\n",
       "\n",
       "(63 ,99 ,.,.) = \n",
       " -5.4802e-01\n",
       "[torch.FloatTensor of size 64x100x1x1]"
      ]
     },
     "execution_count": 87,
     "metadata": {},
     "output_type": "execute_result"
    }
   ],
   "source": [
    "conv2d(output)"
   ]
  },
  {
   "cell_type": "code",
   "execution_count": 88,
   "metadata": {
    "collapsed": false
   },
   "outputs": [
    {
     "data": {
      "text/plain": [
       "Variable containing:\n",
       "( 0 , 0 ,.,.) = \n",
       " -3.7547e-01\n",
       "\n",
       "( 0 , 1 ,.,.) = \n",
       " -1.6052e-01\n",
       "\n",
       "( 0 , 2 ,.,.) = \n",
       " -5.9118e-01\n",
       "    ... \n",
       "\n",
       "( 0 ,97 ,.,.) = \n",
       " -1.6025e-01\n",
       "\n",
       "( 0 ,98 ,.,.) = \n",
       "  2.6687e+00\n",
       "\n",
       "( 0 ,99 ,.,.) = \n",
       " -5.7096e-01\n",
       "      ⋮  \n",
       "\n",
       "( 1 , 0 ,.,.) = \n",
       "  8.3789e-02\n",
       "\n",
       "( 1 , 1 ,.,.) = \n",
       " -1.1733e+00\n",
       "\n",
       "( 1 , 2 ,.,.) = \n",
       "  5.7186e-02\n",
       "    ... \n",
       "\n",
       "( 1 ,97 ,.,.) = \n",
       " -2.8215e-01\n",
       "\n",
       "( 1 ,98 ,.,.) = \n",
       " -1.6814e+00\n",
       "\n",
       "( 1 ,99 ,.,.) = \n",
       "  1.9751e-01\n",
       "      ⋮  \n",
       "\n",
       "( 2 , 0 ,.,.) = \n",
       "  4.4370e-01\n",
       "\n",
       "( 2 , 1 ,.,.) = \n",
       "  1.2042e+00\n",
       "\n",
       "( 2 , 2 ,.,.) = \n",
       "  1.1825e+00\n",
       "    ... \n",
       "\n",
       "( 2 ,97 ,.,.) = \n",
       "  1.1176e+00\n",
       "\n",
       "( 2 ,98 ,.,.) = \n",
       " -2.1219e+00\n",
       "\n",
       "( 2 ,99 ,.,.) = \n",
       " -6.7144e-01\n",
       "...     \n",
       "      ⋮  \n",
       "\n",
       "(61 , 0 ,.,.) = \n",
       "  1.9414e+00\n",
       "\n",
       "(61 , 1 ,.,.) = \n",
       " -2.6348e-01\n",
       "\n",
       "(61 , 2 ,.,.) = \n",
       " -4.5539e-01\n",
       "    ... \n",
       "\n",
       "(61 ,97 ,.,.) = \n",
       " -2.1561e-02\n",
       "\n",
       "(61 ,98 ,.,.) = \n",
       " -1.7914e+00\n",
       "\n",
       "(61 ,99 ,.,.) = \n",
       "  4.9997e-01\n",
       "      ⋮  \n",
       "\n",
       "(62 , 0 ,.,.) = \n",
       "  5.8461e-02\n",
       "\n",
       "(62 , 1 ,.,.) = \n",
       " -6.9763e-01\n",
       "\n",
       "(62 , 2 ,.,.) = \n",
       "  1.0900e+00\n",
       "    ... \n",
       "\n",
       "(62 ,97 ,.,.) = \n",
       " -1.0451e+00\n",
       "\n",
       "(62 ,98 ,.,.) = \n",
       " -4.4289e-01\n",
       "\n",
       "(62 ,99 ,.,.) = \n",
       " -1.7961e+00\n",
       "      ⋮  \n",
       "\n",
       "(63 , 0 ,.,.) = \n",
       "  9.1649e-01\n",
       "\n",
       "(63 , 1 ,.,.) = \n",
       "  6.1750e-02\n",
       "\n",
       "(63 , 2 ,.,.) = \n",
       "  8.8048e-01\n",
       "    ... \n",
       "\n",
       "(63 ,97 ,.,.) = \n",
       " -9.8391e-02\n",
       "\n",
       "(63 ,98 ,.,.) = \n",
       " -9.5950e-01\n",
       "\n",
       "(63 ,99 ,.,.) = \n",
       " -1.5371e-01\n",
       "[torch.FloatTensor of size 64x100x1x1]"
      ]
     },
     "execution_count": 88,
     "metadata": {},
     "output_type": "execute_result"
    }
   ],
   "source": [
    "fixed_noise"
   ]
  },
  {
   "cell_type": "code",
   "execution_count": null,
   "metadata": {
    "collapsed": true
   },
   "outputs": [],
   "source": []
  }
 ],
 "metadata": {
  "anaconda-cloud": {},
  "kernelspec": {
   "display_name": "Python [conda env:py35]",
   "language": "python",
   "name": "conda-env-py35-py"
  },
  "language_info": {
   "codemirror_mode": {
    "name": "ipython",
    "version": 3
   },
   "file_extension": ".py",
   "mimetype": "text/x-python",
   "name": "python",
   "nbconvert_exporter": "python",
   "pygments_lexer": "ipython3",
   "version": "3.5.2"
  }
 },
 "nbformat": 4,
 "nbformat_minor": 1
}
