{
 "cells": [
  {
   "cell_type": "markdown",
   "metadata": {},
   "source": [
    "## Important\n",
    "[1] Generative Adversarial Nets\n",
    "https://papers.nips.cc/paper/5423-generative-adversarial-nets.pdf\n",
    "\n",
    "[2] GAN Tutorial\n",
    "https://arxiv.org/pdf/1701.00160.pdf\n",
    "\n",
    "\n",
    "## Additional Reading\n",
    "Unsupervised representation learning with deep convolutional generative\n",
    "adversarial networks\n",
    "https://arxiv.org/pdf/1511.06434.pdf\n",
    "\n",
    "ENERGY-BASED GENERATIVE ADVERSARIAL NETWORKS\n",
    "https://arxiv.org/pdf/1609.03126.pdf"
   ]
  }
 ],
 "metadata": {
  "anaconda-cloud": {},
  "kernelspec": {
   "display_name": "Python [conda env:py35]",
   "language": "python",
   "name": "conda-env-py35-py"
  },
  "language_info": {
   "codemirror_mode": {
    "name": "ipython",
    "version": 3
   },
   "file_extension": ".py",
   "mimetype": "text/x-python",
   "name": "python",
   "nbconvert_exporter": "python",
   "pygments_lexer": "ipython3",
   "version": "3.5.2"
  }
 },
 "nbformat": 4,
 "nbformat_minor": 1
}
